{
 "cells": [
  {
   "cell_type": "code",
   "execution_count": 8,
   "metadata": {},
   "outputs": [
    {
     "ename": "RuntimeError",
     "evalue": "asyncio.run() cannot be called from a running event loop",
     "output_type": "error",
     "traceback": [
      "\u001b[1;31m---------------------------------------------------------------------------\u001b[0m",
      "\u001b[1;31mRuntimeError\u001b[0m                              Traceback (most recent call last)",
      "\u001b[1;32me:\\BTech\\CMRTC\\TnP\\SurgeClasses_DMA\\Sciencia\\LangChain\\personal_news_summarization_assistant.ipynb Cell 1\u001b[0m line \u001b[0;36m2\n\u001b[0;32m     <a href='vscode-notebook-cell:/e%3A/BTech/CMRTC/TnP/SurgeClasses_DMA/Sciencia/LangChain/personal_news_summarization_assistant.ipynb#W0sZmlsZQ%3D%3D?line=19'>20</a>\u001b[0m         \u001b[39mprint\u001b[39m(o)\n\u001b[0;32m     <a href='vscode-notebook-cell:/e%3A/BTech/CMRTC/TnP/SurgeClasses_DMA/Sciencia/LangChain/personal_news_summarization_assistant.ipynb#W0sZmlsZQ%3D%3D?line=21'>22</a>\u001b[0m _081_ \u001b[39m=\u001b[39m App(_1_, _8_)\n\u001b[1;32m---> <a href='vscode-notebook-cell:/e%3A/BTech/CMRTC/TnP/SurgeClasses_DMA/Sciencia/LangChain/personal_news_summarization_assistant.ipynb#W0sZmlsZQ%3D%3D?line=22'>23</a>\u001b[0m run_app(_081_)\n",
      "File \u001b[1;32md:\\conda\\Anaconda\\envs\\cmrtc__surge_classes__dsaiml\\lib\\site-packages\\shiny\\_main.py:241\u001b[0m, in \u001b[0;36mrun_app\u001b[1;34m(app, host, port, autoreload_port, reload, ws_max_size, log_level, app_dir, factory, launch_browser)\u001b[0m\n\u001b[0;32m    237\u001b[0m     setup_launch_browser(log_config)\n\u001b[0;32m    239\u001b[0m maybe_setup_rsw_proxying(log_config)\n\u001b[1;32m--> 241\u001b[0m uvicorn\u001b[39m.\u001b[39;49mrun(  \u001b[39m# pyright: ignore[reportUnknownMemberType]\u001b[39;49;00m\n\u001b[0;32m    242\u001b[0m     app,  \u001b[39m# pyright: ignore[reportGeneralTypeIssues]\u001b[39;49;00m\n\u001b[0;32m    243\u001b[0m     host\u001b[39m=\u001b[39;49mhost,\n\u001b[0;32m    244\u001b[0m     port\u001b[39m=\u001b[39;49mport,\n\u001b[0;32m    245\u001b[0m     reload\u001b[39m=\u001b[39;49mreload,\n\u001b[0;32m    246\u001b[0m     reload_dirs\u001b[39m=\u001b[39;49mreload_dirs,\n\u001b[0;32m    247\u001b[0m     ws_max_size\u001b[39m=\u001b[39;49mws_max_size,\n\u001b[0;32m    248\u001b[0m     log_level\u001b[39m=\u001b[39;49mlog_level,\n\u001b[0;32m    249\u001b[0m     log_config\u001b[39m=\u001b[39;49mlog_config,\n\u001b[0;32m    250\u001b[0m     app_dir\u001b[39m=\u001b[39;49mapp_dir,\n\u001b[0;32m    251\u001b[0m     factory\u001b[39m=\u001b[39;49mfactory,\n\u001b[0;32m    252\u001b[0m )\n",
      "File \u001b[1;32md:\\conda\\Anaconda\\envs\\cmrtc__surge_classes__dsaiml\\lib\\site-packages\\uvicorn\\main.py:578\u001b[0m, in \u001b[0;36mrun\u001b[1;34m(app, host, port, uds, fd, loop, http, ws, ws_max_size, ws_ping_interval, ws_ping_timeout, ws_per_message_deflate, lifespan, interface, reload, reload_dirs, reload_includes, reload_excludes, reload_delay, workers, env_file, log_config, log_level, access_log, proxy_headers, server_header, date_header, forwarded_allow_ips, root_path, limit_concurrency, backlog, limit_max_requests, timeout_keep_alive, timeout_graceful_shutdown, ssl_keyfile, ssl_certfile, ssl_keyfile_password, ssl_version, ssl_cert_reqs, ssl_ca_certs, ssl_ciphers, headers, use_colors, app_dir, factory, h11_max_incomplete_event_size)\u001b[0m\n\u001b[0;32m    576\u001b[0m     Multiprocess(config, target\u001b[39m=\u001b[39mserver\u001b[39m.\u001b[39mrun, sockets\u001b[39m=\u001b[39m[sock])\u001b[39m.\u001b[39mrun()\n\u001b[0;32m    577\u001b[0m \u001b[39melse\u001b[39;00m:\n\u001b[1;32m--> 578\u001b[0m     server\u001b[39m.\u001b[39;49mrun()\n\u001b[0;32m    579\u001b[0m \u001b[39mif\u001b[39;00m config\u001b[39m.\u001b[39muds \u001b[39mand\u001b[39;00m os\u001b[39m.\u001b[39mpath\u001b[39m.\u001b[39mexists(config\u001b[39m.\u001b[39muds):\n\u001b[0;32m    580\u001b[0m     os\u001b[39m.\u001b[39mremove(config\u001b[39m.\u001b[39muds)  \u001b[39m# pragma: py-win32\u001b[39;00m\n",
      "File \u001b[1;32md:\\conda\\Anaconda\\envs\\cmrtc__surge_classes__dsaiml\\lib\\site-packages\\uvicorn\\server.py:61\u001b[0m, in \u001b[0;36mServer.run\u001b[1;34m(self, sockets)\u001b[0m\n\u001b[0;32m     59\u001b[0m \u001b[39mdef\u001b[39;00m \u001b[39mrun\u001b[39m(\u001b[39mself\u001b[39m, sockets: Optional[List[socket\u001b[39m.\u001b[39msocket]] \u001b[39m=\u001b[39m \u001b[39mNone\u001b[39;00m) \u001b[39m-\u001b[39m\u001b[39m>\u001b[39m \u001b[39mNone\u001b[39;00m:\n\u001b[0;32m     60\u001b[0m     \u001b[39mself\u001b[39m\u001b[39m.\u001b[39mconfig\u001b[39m.\u001b[39msetup_event_loop()\n\u001b[1;32m---> 61\u001b[0m     \u001b[39mreturn\u001b[39;00m asyncio\u001b[39m.\u001b[39;49mrun(\u001b[39mself\u001b[39;49m\u001b[39m.\u001b[39;49mserve(sockets\u001b[39m=\u001b[39;49msockets))\n",
      "File \u001b[1;32md:\\conda\\Anaconda\\envs\\cmrtc__surge_classes__dsaiml\\lib\\asyncio\\runners.py:33\u001b[0m, in \u001b[0;36mrun\u001b[1;34m(main, debug)\u001b[0m\n\u001b[0;32m      9\u001b[0m \u001b[39m\"\"\"Execute the coroutine and return the result.\u001b[39;00m\n\u001b[0;32m     10\u001b[0m \n\u001b[0;32m     11\u001b[0m \u001b[39mThis function runs the passed coroutine, taking care of\u001b[39;00m\n\u001b[1;32m   (...)\u001b[0m\n\u001b[0;32m     30\u001b[0m \u001b[39m    asyncio.run(main())\u001b[39;00m\n\u001b[0;32m     31\u001b[0m \u001b[39m\"\"\"\u001b[39;00m\n\u001b[0;32m     32\u001b[0m \u001b[39mif\u001b[39;00m events\u001b[39m.\u001b[39m_get_running_loop() \u001b[39mis\u001b[39;00m \u001b[39mnot\u001b[39;00m \u001b[39mNone\u001b[39;00m:\n\u001b[1;32m---> 33\u001b[0m     \u001b[39mraise\u001b[39;00m \u001b[39mRuntimeError\u001b[39;00m(\n\u001b[0;32m     34\u001b[0m         \u001b[39m\"\u001b[39m\u001b[39masyncio.run() cannot be called from a running event loop\u001b[39m\u001b[39m\"\u001b[39m)\n\u001b[0;32m     36\u001b[0m \u001b[39mif\u001b[39;00m \u001b[39mnot\u001b[39;00m coroutines\u001b[39m.\u001b[39miscoroutine(main):\n\u001b[0;32m     37\u001b[0m     \u001b[39mraise\u001b[39;00m \u001b[39mValueError\u001b[39;00m(\u001b[39m\"\u001b[39m\u001b[39ma coroutine was expected, got \u001b[39m\u001b[39m{!r}\u001b[39;00m\u001b[39m\"\u001b[39m\u001b[39m.\u001b[39mformat(main))\n",
      "\u001b[1;31mRuntimeError\u001b[0m: asyncio.run() cannot be called from a running event loop"
     ]
    }
   ],
   "source": [
    "from shiny import ui, App,run_app\n",
    "\n",
    "\n",
    "\n",
    "\n",
    "_1_ = ui.page_fluid(\n",
    "    ui.input_checkbox_group(\n",
    "        id = \"id__ip_cb_opt_news_feed\",\n",
    "        label = \"Opt News Feed\",\n",
    "        choices = [\"Google News\", \"Yahoo News\", \"Bing News\", \"DuckDuckGo News\"],\n",
    "\n",
    "    )\n",
    ")\n",
    "\n",
    "def _8_(ip,op,io):\n",
    "    @output\n",
    "    @render.ui\n",
    "    def func__op_opt_news_feed():\n",
    "        o = ip.ip_cb_opt_news_feed\n",
    "        print(o)\n",
    "\n",
    "_081_ = App(_1_, _8_)\n",
    "run_app(_081_)\n"
   ]
  }
 ],
 "metadata": {
  "kernelspec": {
   "display_name": "cmrtc__surge_classes__dsaiml",
   "language": "python",
   "name": "python3"
  },
  "language_info": {
   "codemirror_mode": {
    "name": "ipython",
    "version": 3
   },
   "file_extension": ".py",
   "mimetype": "text/x-python",
   "name": "python",
   "nbconvert_exporter": "python",
   "pygments_lexer": "ipython3",
   "version": "3.10.9"
  },
  "orig_nbformat": 4
 },
 "nbformat": 4,
 "nbformat_minor": 2
}
